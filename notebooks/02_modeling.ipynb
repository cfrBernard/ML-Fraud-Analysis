{
 "cells": [
  {
   "cell_type": "code",
   "execution_count": 8,
   "id": "7fda0a9f",
   "metadata": {},
   "outputs": [],
   "source": [
    "import pandas as pd\n",
    "import numpy as np\n",
    "import json\n",
    "\n",
    "from sklearn.model_selection import train_test_split\n",
    "from sklearn.ensemble import RandomForestClassifier\n",
    "from sklearn.metrics import (\n",
    "    classification_report, roc_auc_score,\n",
    "    precision_score, recall_score, f1_score,\n",
    "    precision_recall_curve, average_precision_score\n",
    ")\n",
    "import matplotlib.pyplot as plt\n"
   ]
  },
  {
   "cell_type": "code",
   "execution_count": null,
   "id": "a4b20297",
   "metadata": {},
   "outputs": [],
   "source": [
    "# Load dataset\n",
    "df = pd.read_csv(\"../data/creditcard.csv\")\n",
    "\n",
    "# Build features\n",
    "df = build_features(df, risk_dict)"
   ]
  },
  {
   "cell_type": "code",
   "execution_count": 9,
   "id": "b2b11f44",
   "metadata": {},
   "outputs": [],
   "source": [
    "risk_dict = {\n",
    "    # (70-90%)\n",
    "    \"high\": {\n",
    "        \"V11\": [\n",
    "            {\"range\": (4.45, 5.29), \"fraud_rate\": 78.69, \"count\": 61},\n",
    "        ],\n",
    "        \"V12\": [\n",
    "            {\"range\": (-14.70, -13.38), \"fraud_rate\": 76.67, \"count\": 30},\n",
    "            {\"range\": (-9.40, -8.07), \"fraud_rate\": 88.10, \"count\": 42},\n",
    "            {\"range\": (-8.07, -6.74), \"fraud_rate\": 76.27, \"count\": 59},\n",
    "            {\"range\": (-6.74, -5.42), \"fraud_rate\": 88.24, \"count\": 68},\n",
    "        ],\n",
    "        \"V14\": [\n",
    "            {\"range\": (-14.75, -13.27), \"fraud_rate\": 90.00, \"count\": 30},\n",
    "            {\"range\": (-13.27, -11.78), \"fraud_rate\": 80.00, \"count\": 30},\n",
    "            {\"range\": (-11.78, -10.29), \"fraud_rate\": 79.55, \"count\": 44},\n",
    "            {\"range\": (-10.29, -8.80), \"fraud_rate\": 76.67, \"count\": 60},\n",
    "        ],\n",
    "        \"V17\": [\n",
    "            {\"range\": (-14.84, -13.12), \"fraud_rate\": 76.47, \"count\": 34},\n",
    "            {\"range\": (-11.40, -9.68), \"fraud_rate\": 85.71, \"count\": 28},\n",
    "            {\"range\": (-7.95, -6.23), \"fraud_rate\": 86.67, \"count\": 45},\n",
    "            {\"range\": (-6.23, -4.51), \"fraud_rate\": 76.83, \"count\": 82},\n",
    "        ]\n",
    "    },\n",
    "    # (10-70%)\n",
    "    \"mid\": {\n",
    "        \"V4\": [\n",
    "            {\"range\": (5.60, 6.72), \"fraud_rate\": 28.63, \"count\": 241},\n",
    "            {\"range\": (6.72, 7.85), \"fraud_rate\": 44.87, \"count\": 78},\n",
    "            {\"range\": (7.85, 8.98), \"fraud_rate\": 56.86, \"count\": 51},\n",
    "        ],\n",
    "        \"V10\": [\n",
    "            {\"range\": (-10.09, -7.67), \"fraud_rate\": 65.00, \"count\": 60},\n",
    "            {\"range\": (-7.67, -5.25), \"fraud_rate\": 66.67, \"count\": 117},\n",
    "            {\"range\": (-5.25, -2.84), \"fraud_rate\": 23.01, \"count\": 665},\n",
    "        ],\n",
    "        \"V11\": [\n",
    "            {\"range\": (2.77, 3.61), \"fraud_rate\": 10.59, \"count\": 680},\n",
    "            {\"range\": (3.61, 4.45), \"fraud_rate\": 59.17, \"count\": 120},\n",
    "        ],\n",
    "        \"V12\": [\n",
    "            {\"range\": (-5.42, -4.09), \"fraud_rate\": 34.12, \"count\": 170},\n",
    "        ],\n",
    "        \"V14\": [\n",
    "            {\"range\": (-8.80, -7.32), \"fraud_rate\": 65.71, \"count\": 105},\n",
    "            {\"range\": (-7.32, -5.83), \"fraud_rate\": 54.96, \"count\": 131},\n",
    "            {\"range\": (-5.83, -4.34), \"fraud_rate\": 24.67, \"count\": 300},\n",
    "        ],\n",
    "        \"V17\": [\n",
    "            {\"range\": (-4.51, -2.79), \"fraud_rate\": 58.24, \"count\": 91},\n",
    "            {\"range\": (5.81, 7.53), \"fraud_rate\": 13.46, \"count\": 52},\n",
    "        ]\n",
    "    },\n",
    "    # (1-10%)\n",
    "    \"low\": {\n",
    "        \"V4\": [\n",
    "            {\"range\": (3.34, 4.47), \"fraud_rate\": 1.25, \"count\": 6024},\n",
    "            {\"range\": (4.47, 5.60), \"fraud_rate\": 3.79, \"count\": 1477},\n",
    "        ],\n",
    "        \"V11\": [\n",
    "            {\"range\": (1.93, 2.77), \"fraud_rate\": 1.12, \"count\": 5179},\n",
    "            {\"range\": (2.77, 3.61), \"fraud_rate\": 10.59, \"count\": 680},\n",
    "        ],\n",
    "        \"V12\": [\n",
    "            {\"range\": (-4.09, -2.76), \"fraud_rate\": 1.60, \"count\": 4436},\n",
    "        ],\n",
    "        \"V14\": [\n",
    "            {\"range\": (-4.34, -2.86), \"fraud_rate\": 2.29, \"count\": 1965},\n",
    "        ],\n",
    "        \"V17\": [\n",
    "            {\"range\": (4.09, 5.81), \"fraud_rate\": 2.80, \"count\": 214},\n",
    "        ]\n",
    "    }\n",
    "}\n",
    "\n",
    "# TOTAL : 19945 transactions, 1425 frauds (7.5%)\n",
    "\n",
    "# (high/mid/low) 19k = ~ 7% total dataset & 7.5% fraud \n",
    "# (high/mid) 3.4k = ~ 1,2% total dataset & 40% fraud \n",
    "# (high) 613 = ~ 0,2% total dataset & 81% fraud "
   ]
  },
  {
   "cell_type": "code",
   "execution_count": 10,
   "id": "e2e60674",
   "metadata": {},
   "outputs": [],
   "source": [
    "def amount_risk_flag(amount):\n",
    "    return 1 if 100 <= amount <= 1000 else 0\n",
    "\n",
    "def compute_risk_features(row, risk_dict):\n",
    "    score = 0\n",
    "    risk_counts = {\"low\": 0, \"mid\": 0, \"high\": 0}\n",
    "\n",
    "    for level, features in risk_dict.items():\n",
    "        level_score = {\"low\": 1, \"mid\": 2, \"high\": 3}[level]\n",
    "        for feature, bins in features.items():\n",
    "            value = row.get(feature, None)\n",
    "            if value is None:\n",
    "                continue\n",
    "            for b in bins:\n",
    "                low, high = b[\"range\"]\n",
    "                if low <= value < high:\n",
    "                    score += level_score\n",
    "                    risk_counts[level] += 1\n",
    "                    break\n",
    "\n",
    "    return pd.Series({\n",
    "        \"risk_score\": score,\n",
    "        \"risk_low\": risk_counts[\"low\"],\n",
    "        \"risk_mid\": risk_counts[\"mid\"],\n",
    "        \"risk_high\": risk_counts[\"high\"]\n",
    "    })\n",
    "\n",
    "def build_features(df, risk_dict):\n",
    "    df = df.copy()\n",
    "    df['amount_high_fraud_zone'] = df['Amount'].apply(amount_risk_flag)\n",
    "    risk_features = df.apply(compute_risk_features, axis=1, risk_dict=risk_dict)\n",
    "    return pd.concat([df, risk_features], axis=1)\n"
   ]
  },
  {
   "cell_type": "code",
   "execution_count": 13,
   "id": "3aa67406",
   "metadata": {},
   "outputs": [],
   "source": [
    "features = [\n",
    "    'V4', 'V10', 'V11', 'V12', 'V14', 'V17',\n",
    "    'Amount', 'risk_score', 'risk_low', 'risk_mid', 'risk_high', 'amount_high_fraud_zone'\n",
    "]\n",
    "X = df[features]\n",
    "y = df['Class']\n",
    "\n",
    "X_train, X_test, y_train, y_test = train_test_split(X, y, stratify=y, test_size=0.3, random_state=42)"
   ]
  },
  {
   "cell_type": "code",
   "execution_count": 14,
   "id": "2c477e76",
   "metadata": {},
   "outputs": [
    {
     "name": "stdout",
     "output_type": "stream",
     "text": [
      "              precision    recall  f1-score   support\n",
      "\n",
      "           0       1.00      1.00      1.00     85295\n",
      "           1       0.96      0.74      0.84       148\n",
      "\n",
      "    accuracy                           1.00     85443\n",
      "   macro avg       0.98      0.87      0.92     85443\n",
      "weighted avg       1.00      1.00      1.00     85443\n",
      "\n",
      "ROC AUC: 0.9279409854194425\n"
     ]
    }
   ],
   "source": [
    "model = RandomForestClassifier(class_weight='balanced', random_state=42)\n",
    "model.fit(X_train, y_train)\n",
    "\n",
    "y_pred = model.predict(X_test)\n",
    "y_proba = model.predict_proba(X_test)[:, 1]\n",
    "\n",
    "print(classification_report(y_test, y_pred))\n",
    "print(\"ROC AUC:\", roc_auc_score(y_test, y_proba))"
   ]
  },
  {
   "cell_type": "code",
   "execution_count": 15,
   "id": "7eff5d7b",
   "metadata": {},
   "outputs": [
    {
     "name": "stdout",
     "output_type": "stream",
     "text": [
      "Threshold | Precision | Recall | F1\n",
      "----------------------------------------\n",
      "    0.10 |      0.75 |   0.83 | 0.79\n",
      "    0.20 |      0.86 |   0.82 | 0.84\n",
      "    0.30 |      0.91 |   0.80 | 0.85\n",
      "    0.40 |      0.95 |   0.78 | 0.86\n",
      "    0.50 |      0.96 |   0.74 | 0.84\n",
      "    0.60 |      0.97 |   0.69 | 0.81\n",
      "    0.70 |      0.98 |   0.65 | 0.78\n",
      "    0.80 |      0.98 |   0.56 | 0.71\n",
      "    0.90 |      0.97 |   0.43 | 0.59\n"
     ]
    }
   ],
   "source": [
    "thresholds = np.arange(0.1, 1.0, 0.1)\n",
    "\n",
    "print(\"Threshold | Precision | Recall | F1\")\n",
    "print(\"-\" * 40)\n",
    "for threshold in thresholds:\n",
    "    y_thresh = (y_proba > threshold).astype(int)\n",
    "    p = precision_score(y_test, y_thresh, zero_division=0)\n",
    "    r = recall_score(y_test, y_thresh)\n",
    "    f1 = f1_score(y_test, y_thresh)\n",
    "    print(f\"{threshold:8.2f} | {p:9.2f} | {r:6.2f} | {f1:4.2f}\")\n"
   ]
  },
  {
   "cell_type": "code",
   "execution_count": 16,
   "id": "fe6a355e",
   "metadata": {},
   "outputs": [
    {
     "data": {
      "image/png": "[encoded data removed]",
      "text/plain": [
       "<Figure size 1000x600 with 1 Axes>"
      ]
     },
     "metadata": {},
     "output_type": "display_data"
    }
   ],
   "source": [
    "precision, recall, thresholds = precision_recall_curve(y_test, y_proba)\n",
    "avg_precision = average_precision_score(y_test, y_proba)\n",
    "\n",
    "threshold = 0.3\n",
    "idx = np.argmin(np.abs(thresholds - threshold))\n",
    "\n",
    "plt.figure(figsize=(10, 6))\n",
    "plt.plot(recall, precision, label=f'PR curve (AP = {avg_precision:.2f})', color='royalblue')\n",
    "plt.scatter(recall[idx], precision[idx], color='red', label=f'Threshold = {threshold}')\n",
    "plt.xlabel(\"Recall\")\n",
    "plt.ylabel(\"Precision\")\n",
    "plt.title(\"Precision-Recall Curve\")\n",
    "plt.grid(True)\n",
    "plt.legend()\n",
    "plt.show()\n"
   ]
  }
 ],
 "metadata": {
  "kernelspec": {
   "display_name": ".venv",
   "language": "python",
   "name": "python3"
  },
  "language_info": {
   "codemirror_mode": {
    "name": "ipython",
    "version": 3
   },
   "file_extension": ".py",
   "mimetype": "text/x-python",
   "name": "python",
   "nbconvert_exporter": "python",
   "pygments_lexer": "ipython3",
   "version": "3.13.0"
  }
 },
 "nbformat": 4,
 "nbformat_minor": 5
}
